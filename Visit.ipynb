{
 "cells": [
  {
   "cell_type": "code",
   "execution_count": null,
   "metadata": {},
   "outputs": [],
   "source": [
    "from selenium import webdriver\n",
    "from selenium.webdriver.edge.service import Service\n",
    "from selenium.webdriver.edge.options import Options\n",
    "from selenium.webdriver.common.by import By\n",
    "from selenium.webdriver.support.ui import WebDriverWait\n",
    "from selenium.webdriver.support import expected_conditions as EC\n",
    "from selenium.webdriver.common.keys import Keys\n",
    "from dotenv import load_dotenv\n",
    "import random\n",
    "import time\n",
    "import random\n",
    "import os\n",
    "\n",
    "load_dotenv()\n",
    "# Set up Edge options\n",
    "edge_options = Options()  # Optional: run Edge in headless mode\n",
    "edge_options.add_argument(\"user-agent=Mozilla/5.0 (Windows NT 10.0; Win64; x64) AppleWebKit/537.36 (KHTML, like Gecko) Chrome/91.0.4472.124 Safari/537.36\")\n",
    "\n",
    "# Set up the Edge WebDriver service\n",
    "service = Service()\n",
    "\n",
    "# Create a new WebDriver instance for Edge\n",
    "driver = webdriver.Edge(service=service, options=edge_options)\n",
    "\n",
    "# Navigate to a webpage\n",
    "driver.get('https://www.linkedin.com/login')\n",
    "\n",
    "# Get the current URL from the address bar\n",
    "current_url = driver.current_url\n",
    "print(\"Current URL:\", current_url)\n",
    "\n",
    "# Always remember to quit the driver at the end of your session\n"
   ]
  },
  {
   "cell_type": "markdown",
   "metadata": {},
   "source": [
    "# Input Username"
   ]
  },
  {
   "cell_type": "code",
   "execution_count": null,
   "metadata": {},
   "outputs": [],
   "source": [
    "print(os.getenv(\"LINKEDIN_EMAIL\"))"
   ]
  },
  {
   "cell_type": "code",
   "execution_count": 3,
   "metadata": {},
   "outputs": [],
   "source": [
    "username_field = WebDriverWait(driver,10).until(\n",
    "    EC.visibility_of_element_located((By.ID, \"username\"))\n",
    ")\n",
    "username_field.send_keys(os.getenv(\"LINKEDIN_EMAIL\"))"
   ]
  },
  {
   "cell_type": "markdown",
   "metadata": {},
   "source": [
    "# Input Password"
   ]
  },
  {
   "cell_type": "code",
   "execution_count": 4,
   "metadata": {},
   "outputs": [],
   "source": [
    "password_field = WebDriverWait(driver,10).until(\n",
    "    EC.visibility_of_element_located((By.ID, \"password\"))\n",
    ")\n",
    "password_field.send_keys(os.getenv(\"LINKEDIN_PASSWORD\"))"
   ]
  },
  {
   "cell_type": "markdown",
   "metadata": {},
   "source": [
    "# Login"
   ]
  },
  {
   "cell_type": "code",
   "execution_count": 5,
   "metadata": {},
   "outputs": [],
   "source": [
    "submit_button = WebDriverWait(driver, 10).until(\n",
    "        EC.visibility_of_element_located((By.XPATH, \"//button[@type='submit']\"))\n",
    "    )\n",
    "\n",
    "submit_button.click()"
   ]
  },
  {
   "cell_type": "markdown",
   "metadata": {},
   "source": [
    "# Search"
   ]
  },
  {
   "cell_type": "code",
   "execution_count": 6,
   "metadata": {},
   "outputs": [],
   "source": [
    "xpath_search_field = \"//div[@id='global-nav-typeahead']/input\"\n",
    "search_field = WebDriverWait(driver, 10).until(\n",
    "\n",
    "    EC.visibility_of_element_located((By.XPATH,xpath_search_field))\n",
    ")\n",
    "\n",
    "search_field.send_keys(os.getenv(\"SEARCH_VALUE\"))\n",
    "search_field.send_keys(Keys.ENTER)"
   ]
  },
  {
   "cell_type": "markdown",
   "metadata": {},
   "source": [
    "# Second Connection"
   ]
  },
  {
   "cell_type": "code",
   "execution_count": 7,
   "metadata": {},
   "outputs": [],
   "source": [
    "xpath_second_connection = \"(//div[@class='search-results-container']//a[@class='app-aware-link  artdeco-pill artdeco-pill--slate artdeco-pill--choice artdeco-pill--2 reusable-search__entity-cluster--quick-filter-action'])[2]\" \n",
    "secon_connection = WebDriverWait(driver, 10).until(\n",
    "    EC.visibility_of_element_located((By.XPATH,xpath_second_connection))\n",
    ")\n",
    "secon_connection.click()"
   ]
  },
  {
   "cell_type": "markdown",
   "metadata": {},
   "source": [
    "# Auto Click"
   ]
  },
  {
   "cell_type": "code",
   "execution_count": null,
   "metadata": {},
   "outputs": [],
   "source": [
    "\n",
    "\n",
    "list_of_People_xpath = \"//div[@class='mb1']//a[@class='app-aware-link ']\"\n",
    "\n",
    "condition = True\n",
    "\n",
    "while condition:\n",
    "    time.sleep(5)\n",
    "    list_of_People = WebDriverWait(driver, 10).until(\n",
    "        EC.visibility_of_all_elements_located((By.XPATH,list_of_People_xpath))\n",
    "    )\n",
    "\n",
    "    current_url = driver.current_url\n",
    "\n",
    "    list_of_People_url = [person.get_attribute(\"href\") for person in list_of_People]\n",
    "\n",
    "    for person in list_of_People_url:\n",
    "        driver.get(person)\n",
    "        time.sleep(random.uniform(4, 7))\n",
    "\n",
    "    driver.get(current_url)\n",
    "    try:\n",
    "        next_button_xpath = \"//*[contains(@class, 'button--next')]\"\n",
    "        next_button = WebDriverWait(driver, 10).until(\n",
    "            EC.visibility_of_element_located((By.XPATH,next_button_xpath))\n",
    "        )\n",
    "        next_button.click()\n",
    "    except:\n",
    "        condition = False\n"
   ]
  },
  {
   "cell_type": "code",
   "execution_count": 59,
   "metadata": {},
   "outputs": [],
   "source": [
    "driver.quit()"
   ]
  }
 ],
 "metadata": {
  "kernelspec": {
   "display_name": "scraping",
   "language": "python",
   "name": "scraping"
  },
  "language_info": {
   "codemirror_mode": {
    "name": "ipython",
    "version": 3
   },
   "file_extension": ".py",
   "mimetype": "text/x-python",
   "name": "python",
   "nbconvert_exporter": "python",
   "pygments_lexer": "ipython3",
   "version": "3.12.4"
  }
 },
 "nbformat": 4,
 "nbformat_minor": 2
}
